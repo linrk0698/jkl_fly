{
 "cells": [
  {
   "cell_type": "code",
   "execution_count": null,
   "metadata": {
    "collapsed": true
   },
   "outputs": [],
   "source": [
    "# Modules allow multiple functions to be combined in a single python file and accessed using import module\n",
    "r\"\"\"Demonstration model.\n",
    "This is the modeule docstring.\n",
    "\"\"\"\n",
    "\n",
    "def square(x):\n",
    "    r\"\"\"Returns the square of a scalar input\"\"\"\n",
    "    return x*x\n",
    "\n",
    "def cube(x):\n",
    "    r\"\"\"Returns the cube of a scalar input\n",
    "    \"\"\"\n",
    "    return x*x*x"
   ]
  }
 ],
 "metadata": {
  "kernelspec": {
   "display_name": "Python [conda root]",
   "language": "python",
   "name": "conda-root-py"
  },
  "language_info": {
   "codemirror_mode": {
    "name": "ipython",
    "version": 3
   },
   "file_extension": ".py",
   "mimetype": "text/x-python",
   "name": "python",
   "nbconvert_exporter": "python",
   "pygments_lexer": "ipython3",
   "version": "3.5.2"
  }
 },
 "nbformat": 4,
 "nbformat_minor": 1
}
