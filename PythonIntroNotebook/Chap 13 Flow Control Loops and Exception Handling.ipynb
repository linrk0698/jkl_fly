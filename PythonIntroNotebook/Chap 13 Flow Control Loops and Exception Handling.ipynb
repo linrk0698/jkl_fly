{
 "cells": [
  {
   "cell_type": "markdown",
   "metadata": {},
   "source": [
    "# 13.1 Whitespace and Flow Control"
   ]
  },
  {
   "cell_type": "code",
   "execution_count": 4,
   "metadata": {
    "collapsed": false
   },
   "outputs": [
    {
     "name": "stdout",
     "output_type": "stream",
     "text": [
      "4950\n",
      "12500.0\n",
      "0\n"
     ]
    }
   ],
   "source": [
    "## Best practice is to use white space (4 white space). \n",
    "# instead of using tabs. \n",
    "\n",
    "# if ... elif ... else ... \n",
    "\n",
    "# for item in iterable:\n",
    "#    code to run\n",
    "import numpy as np\n",
    "count = 0\n",
    "for i in range(100):\n",
    "    count+=i\n",
    "print(count)\n",
    "count = 0\n",
    "x = np.linspace(0,500,50)\n",
    "for i in x: \n",
    "    count+=i\n",
    "print(count)\n",
    "count = 0 \n",
    "x = list(np.arange(-20,21))\n",
    "for i in x:\n",
    "    count+=i\n",
    "print(count)\n"
   ]
  },
  {
   "cell_type": "code",
   "execution_count": 6,
   "metadata": {
    "collapsed": false
   },
   "outputs": [
    {
     "data": {
      "text/plain": [
       "3"
      ]
     },
     "execution_count": 6,
     "metadata": {},
     "output_type": "execute_result"
    }
   ],
   "source": [
    "x = np.ones((3,5))\n",
    "np.size(x,0)"
   ]
  },
  {
   "cell_type": "code",
   "execution_count": 7,
   "metadata": {
    "collapsed": false
   },
   "outputs": [
    {
     "data": {
      "text/plain": [
       "5"
      ]
     },
     "execution_count": 7,
     "metadata": {},
     "output_type": "execute_result"
    }
   ],
   "source": [
    "np.size(x,1)"
   ]
  },
  {
   "cell_type": "code",
   "execution_count": 8,
   "metadata": {
    "collapsed": false
   },
   "outputs": [
    {
     "name": "stdout",
     "output_type": "stream",
     "text": [
      "count  0\n",
      "count  1\n",
      "count  2\n"
     ]
    }
   ],
   "source": [
    "for i in range(np.size(x,0)):\n",
    "    print('count ',i)\n",
    "    "
   ]
  },
  {
   "cell_type": "code",
   "execution_count": 9,
   "metadata": {
    "collapsed": false
   },
   "outputs": [
    {
     "name": "stdout",
     "output_type": "stream",
     "text": [
      "i is : 0\n",
      "y is : 0.0\n",
      "i is : 1\n",
      "y is : 10.0\n",
      "i is : 2\n",
      "y is : 20.0\n",
      "i is : 3\n",
      "y is : 30.0\n",
      "i is : 4\n",
      "y is : 40.0\n",
      "i is : 5\n",
      "y is : 50.0\n",
      "i is : 6\n",
      "y is : 60.0\n",
      "i is : 7\n",
      "y is : 70.0\n",
      "i is : 8\n",
      "y is : 80.0\n",
      "i is : 9\n",
      "y is : 90.0\n",
      "i is : 10\n",
      "y is : 100.0\n"
     ]
    }
   ],
   "source": [
    "x = np.linspace(0,100,11)\n",
    "for i,y in enumerate(x):\n",
    "    print('i is :',i)\n",
    "    print('y is :',y)\n",
    "    "
   ]
  },
  {
   "cell_type": "code",
   "execution_count": 10,
   "metadata": {
    "collapsed": true
   },
   "outputs": [],
   "source": [
    "# supports break and continue. \n",
    "\n",
    "# while logical: \n",
    "#   code to run \n",
    "#   update logical\n",
    "\n"
   ]
  },
  {
   "cell_type": "markdown",
   "metadata": {},
   "source": [
    "# 13.5 try ... except\n"
   ]
  },
  {
   "cell_type": "code",
   "execution_count": 12,
   "metadata": {
    "collapsed": false
   },
   "outputs": [
    {
     "name": "stdout",
     "output_type": "stream",
     "text": [
      "Not convertable\n",
      "1.0\n",
      "54.1\n",
      "Not convertable\n"
     ]
    }
   ],
   "source": [
    "# In most numerical application, code should be deterministic\n",
    "# and so dangerous code can usually be avoided. When it can't \n",
    "# then this will help. \n",
    "\n",
    "# when reading data from a data source, then try ... except can be used to attempt  to \n",
    "# execute the code. \n",
    "\n",
    "text = ('a','1','54.1','43.a')\n",
    "for i in text:\n",
    "    try: \n",
    "        temp = float(i)\n",
    "        print(temp)\n",
    "    except ValueError:\n",
    "        print('Not convertable')"
   ]
  },
  {
   "cell_type": "code",
   "execution_count": 14,
   "metadata": {
    "collapsed": false
   },
   "outputs": [
    {
     "data": {
      "text/plain": [
       "[0.0, 4.0, 16.0]"
      ]
     },
     "execution_count": 14,
     "metadata": {},
     "output_type": "execute_result"
    }
   ],
   "source": [
    "x = np.arange(5.0)\n",
    "z = [x[i]**2 for i in range(len(x)) if np.floor(i/2)==i/2]\n",
    "z"
   ]
  },
  {
   "cell_type": "code",
   "execution_count": null,
   "metadata": {
    "collapsed": true
   },
   "outputs": [],
   "source": []
  }
 ],
 "metadata": {
  "anaconda-cloud": {},
  "kernelspec": {
   "display_name": "Python [default]",
   "language": "python",
   "name": "python3"
  },
  "language_info": {
   "codemirror_mode": {
    "name": "ipython",
    "version": 3
   },
   "file_extension": ".py",
   "mimetype": "text/x-python",
   "name": "python",
   "nbconvert_exporter": "python",
   "pygments_lexer": "ipython3",
   "version": "3.5.2"
  }
 },
 "nbformat": 4,
 "nbformat_minor": 1
}
