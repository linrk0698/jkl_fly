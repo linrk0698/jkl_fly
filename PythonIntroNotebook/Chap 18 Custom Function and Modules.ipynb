{
 "cells": [
  {
   "cell_type": "markdown",
   "metadata": {
    "collapsed": true
   },
   "source": [
    "# 18.1 Functions"
   ]
  },
  {
   "cell_type": "code",
   "execution_count": 1,
   "metadata": {
    "collapsed": false
   },
   "outputs": [
    {
     "name": "stdout",
     "output_type": "stream",
     "text": [
      "2 4\n"
     ]
    }
   ],
   "source": [
    "# simple function\n",
    "from __future__ import print_function,division\n",
    "\n",
    "def square(x):\n",
    "    return x**2\n",
    "\n",
    "x = 2\n",
    "y = square(2)\n",
    "print(x,y)"
   ]
  },
  {
   "cell_type": "code",
   "execution_count": 2,
   "metadata": {
    "collapsed": false
   },
   "outputs": [
    {
     "name": "stdout",
     "output_type": "stream",
     "text": [
      "3 10 49\n"
     ]
    }
   ],
   "source": [
    "# Take two input variables\n",
    "from __future__ import print_function, division\n",
    "\n",
    "def l2distance(x,y):\n",
    "    return (x-y)**2\n",
    "\n",
    "x = 3\n",
    "y = 10\n",
    "z = l2distance(x,y)\n",
    "print(x,y,z)"
   ]
  },
  {
   "cell_type": "code",
   "execution_count": 3,
   "metadata": {
    "collapsed": false
   },
   "outputs": [
    {
     "name": "stdout",
     "output_type": "stream",
     "text": [
      "[-1.10364143 -2.55639208  0.87103828 -0.03404327 -0.57669488 -0.74963344\n",
      " -2.39493769  0.20479761 -0.48792598  2.39401713]\n",
      "The L2 distance is  4.59941487726\n"
     ]
    }
   ],
   "source": [
    "# functions can also be defined using NumPy arrays and matrices\n",
    "from __future__ import print_function, division\n",
    "\n",
    "import numpy as np\n",
    "\n",
    "def l2_norm(x,y):\n",
    "    d = x - y\n",
    "    return np.sqrt(np.dot(d,d))\n",
    "\n",
    "x = np.random.randn(10)\n",
    "y = np.random.randn(10)\n",
    "z = l2_norm(x,y)\n",
    "print(x-y)\n",
    "print(\"The L2 distance is \",z)\n"
   ]
  },
  {
   "cell_type": "code",
   "execution_count": 5,
   "metadata": {
    "collapsed": false
   },
   "outputs": [
    {
     "name": "stdout",
     "output_type": "stream",
     "text": [
      "[-0.48956137 -1.29560229  0.9184646  -1.3741433  -0.58405608 -0.02582722\n",
      "  1.19959838  0.56037199  1.70305998 -2.60650241]\n",
      "The L1 distance is  10.7571876097\n",
      "The L2 distance is  4.05452985542\n",
      "The L1 distance is  10.7571876097\n",
      "The L2 distance is  4.05452985542\n"
     ]
    }
   ],
   "source": [
    "# multiple outputs\n",
    "from __future__ import print_function, division\n",
    "\n",
    "import numpy as np\n",
    "\n",
    "def l1_l2_norm(x,y):\n",
    "    d = x-y\n",
    "    return sum(np.abs(d)),np.sqrt(np.dot(d,d))\n",
    "\n",
    "x = np.random.randn(10)\n",
    "y = np.random.randn(10)\n",
    "z = l1_l2_norm(x,y)\n",
    "print(x-y)\n",
    "print(\"The L1 distance is \",z[0])\n",
    "print(\"The L2 distance is \",z[1])\n",
    "\n",
    "l1,l2 = l1_l2_norm(x,y)\n",
    "print(\"The L1 distance is \",l1)\n",
    "print(\"The L2 distance is \",l2)"
   ]
  },
  {
   "cell_type": "code",
   "execution_count": 6,
   "metadata": {
    "collapsed": false
   },
   "outputs": [
    {
     "name": "stdout",
     "output_type": "stream",
     "text": [
      "The Lp distances are  3.68013781977 3.68013781977\n"
     ]
    }
   ],
   "source": [
    "# All input variables are automatically keyword arguments\n",
    "# The function can be accessed either by placing the inputs in the order they appear. \n",
    "# or we can give as keyword and value pairs. \n",
    "\n",
    "from __future__ import print_function,division\n",
    "import numpy as np\n",
    "\n",
    "def lp_norm(x,y,p):\n",
    "    d = x-y\n",
    "    return sum(abs(d)**p)**(1/p)\n",
    "\n",
    "#Call the function\n",
    "x = np.random.randn(10)\n",
    "y = np.random.randn(10)\n",
    "z1= lp_norm(x,y,2)\n",
    "z2= lp_norm(p=2,x=x,y=y)\n",
    "print(\"The Lp distances are \",z1,z2)"
   ]
  },
  {
   "cell_type": "code",
   "execution_count": 7,
   "metadata": {
    "collapsed": false
   },
   "outputs": [
    {
     "name": "stdout",
     "output_type": "stream",
     "text": [
      "The l1 and l2 distances are  13.3682120805 5.31750220007\n"
     ]
    }
   ],
   "source": [
    "#18.1.2 Default values\n",
    "# default values are set in the function declaration using syntax input=default. \n",
    "\n",
    "from __future__ import print_function,division\n",
    "import numpy as np\n",
    "\n",
    "def lp_norm(x,y,p=2):\n",
    "    d = x-y\n",
    "    return sum(abs(d)**p)**(1/p)\n",
    "\n",
    "x = np.random.randn(10)\n",
    "y = np.random.randn(10)\n",
    "l2 = lp_norm(x,y)\n",
    "l1 = lp_norm(x,y,1)\n",
    "\n",
    "print(\"The l1 and l2 distances are \",l1,l2)"
   ]
  },
  {
   "cell_type": "code",
   "execution_count": 8,
   "metadata": {
    "collapsed": false
   },
   "outputs": [
    {
     "name": "stdout",
     "output_type": "stream",
     "text": [
      "The L2 distance is : 4.97506190015\n",
      "Number of *args: 0\n",
      "The L1 distance is : 13.5246913679\n",
      "Number of *args: 0\n",
      "The L1 distance is : 13.5246913679\n",
      "Number of *args: 3\n",
      "The L2distance is : 4.97506190015\n",
      "The L3distance is : 3.81584142807\n",
      "The L4distance is : 3.46923423584\n"
     ]
    }
   ],
   "source": [
    "# 18.1.3 Variable number of inputs\n",
    "from __future__ import print_function,division\n",
    "\n",
    "import numpy as np\n",
    "\n",
    "def lp_norm(x,y,p=2,*args):\n",
    "    d = x-y\n",
    "    print('The L' + str(p) + ' distance is :',sum(abs(d)**p)**(1/p))\n",
    "    out = [sum(abs(d)**p)**(1/p)]\n",
    "    \n",
    "    print('Number of *args:',len(args))\n",
    "    for p in args:\n",
    "        print('The L' + str(p) + 'distance is :',sum(abs(d)**p)**(1/p))\n",
    "        out.append(sum(abs(d)**p)**(1/p))\n",
    "    return tuple(out)\n",
    "\n",
    "# Call the function\n",
    "x = np.random.randn(10)\n",
    "y = np.random.randn(10)\n",
    "lp = lp_norm(x,y)\n",
    "lp = lp_norm(x,y,1)\n",
    "lp = lp_norm(x,y,1,2,3,4)"
   ]
  },
  {
   "cell_type": "code",
   "execution_count": 9,
   "metadata": {
    "collapsed": false
   },
   "outputs": [
    {
     "name": "stdout",
     "output_type": "stream",
     "text": [
      "Number of *kwargs: 2\n",
      "Key : kword1  Value: 1\n",
      "Key : kword2  Value: 3.2\n",
      "Number of *kwargs: 2\n",
      "Key : kword1  Value: 1\n",
      "Key : kword2  Value: 3.2\n"
     ]
    }
   ],
   "source": [
    "from __future__ import print_function, division\n",
    "import numpy as np\n",
    "\n",
    "def lp_norm(x,y,p=2,**kwargs):\n",
    "    d = x-y\n",
    "    print('Number of *kwargs:',len(kwargs))\n",
    "    for key in kwargs:\n",
    "        print('Key :',key,' Value:',kwargs[key])\n",
    "    return sum(abs(d)**p)\n",
    "\n",
    "# Call the function\n",
    "x = np.random.randn(10)\n",
    "y = np.random.randn(10)\n",
    "lp = lp_norm(x,y,kword1=1,kword2=3.2)\n",
    "lp = lp_norm(x,y,kword1=1,kword2=3.2,p=0)"
   ]
  },
  {
   "cell_type": "code",
   "execution_count": 11,
   "metadata": {
    "collapsed": true
   },
   "outputs": [],
   "source": [
    "# 18.1.4 Docstring\n",
    "from __future__ import print_function, division\n",
    "import numpy as np\n",
    "\n",
    "def lp_norm(x,y,p=2):\n",
    "    \"\"\" The docstring is awesome\n",
    "    \"\"\"\n",
    "    d = x-y\n",
    "    return sum(abs(d)**p)\n"
   ]
  },
  {
   "cell_type": "code",
   "execution_count": 12,
   "metadata": {
    "collapsed": true
   },
   "outputs": [],
   "source": [
    "lp_norm?"
   ]
  },
  {
   "cell_type": "markdown",
   "metadata": {},
   "source": [
    "# 18.2 Variable Scope\n"
   ]
  },
  {
   "cell_type": "code",
   "execution_count": 13,
   "metadata": {
    "collapsed": false
   },
   "outputs": [
    {
     "name": "stdout",
     "output_type": "stream",
     "text": [
      "a is  1\n",
      "Inside function scope_local, a is  -1\n",
      "a is now  1\n",
      "Inside function scope_global, a is  -10\n",
      "a is now  -10\n"
     ]
    }
   ],
   "source": [
    "# Global variable can be accessed in a function, but can't modified in a function. \n",
    "from __future__ import print_function,division\n",
    "import numpy as np\n",
    "\n",
    "a = 1\n",
    "\n",
    "def scope_local():\n",
    "    a=-1\n",
    "    print('Inside function scope_local, a is ',a)\n",
    "    \n",
    "def scope_global():\n",
    "    global a\n",
    "    a=-10\n",
    "    print('Inside function scope_global, a is ',a)\n",
    "\n",
    "print('a is ',a)\n",
    "scope_local()\n",
    "print('a is now ',a)\n",
    "scope_global()\n",
    "print('a is now ',a)\n"
   ]
  },
  {
   "cell_type": "markdown",
   "metadata": {},
   "source": [
    "# 18.4 Anonymous Functions"
   ]
  },
  {
   "cell_type": "code",
   "execution_count": 14,
   "metadata": {
    "collapsed": true
   },
   "outputs": [],
   "source": [
    "nested = [('John','B','O'),\\\n",
    "         ('Jane','C','C'),\\\n",
    "         ('Jerry','Dawn','Ha')]\n",
    "nested.sort()"
   ]
  },
  {
   "cell_type": "code",
   "execution_count": 15,
   "metadata": {
    "collapsed": false
   },
   "outputs": [
    {
     "data": {
      "text/plain": [
       "[('Jane', 'C', 'C'), ('Jerry', 'Dawn', 'Ha'), ('John', 'B', 'O')]"
      ]
     },
     "execution_count": 15,
     "metadata": {},
     "output_type": "execute_result"
    }
   ],
   "source": [
    "nested"
   ]
  },
  {
   "cell_type": "code",
   "execution_count": 16,
   "metadata": {
    "collapsed": false
   },
   "outputs": [
    {
     "data": {
      "text/plain": [
       "[('John', 'B', 'O'), ('Jane', 'C', 'C'), ('Jerry', 'Dawn', 'Ha')]"
      ]
     },
     "execution_count": 16,
     "metadata": {},
     "output_type": "execute_result"
    }
   ],
   "source": [
    "nested.sort(key=lambda x:x[1])\n",
    "nested"
   ]
  },
  {
   "cell_type": "markdown",
   "metadata": {},
   "source": [
    "# 18.5 Modules"
   ]
  },
  {
   "cell_type": "code",
   "execution_count": 17,
   "metadata": {
    "collapsed": false
   },
   "outputs": [
    {
     "name": "stdout",
     "output_type": "stream",
     "text": [
      "9\n",
      "-27\n"
     ]
    }
   ],
   "source": [
    "from __future__ import print_function, division\n",
    "import core\n",
    "y=-3\n",
    "print(core.square(y))\n",
    "print(core.cube(y))\n"
   ]
  },
  {
   "cell_type": "markdown",
   "metadata": {},
   "source": [
    "# 18.6 Packages\n"
   ]
  },
  {
   "cell_type": "markdown",
   "metadata": {},
   "source": [
    "It is difficult to include a large amount of codes in one single file. Packages allow multiple files to exist in the same namespace. Python uses _init_.py to instruct itself that this file folder is package. \n",
    "\n",
    "# 18.7 PYTHONPATH\n",
    "\n",
    "This allows directories to be added so that they are automatically searched if a matching module can't be found in the current directory. "
   ]
  },
  {
   "cell_type": "code",
   "execution_count": 18,
   "metadata": {
    "collapsed": false
   },
   "outputs": [
    {
     "data": {
      "text/plain": [
       "['',\n",
       " 'C:\\\\Program Files\\\\Anaconda3\\\\python35.zip',\n",
       " 'C:\\\\Program Files\\\\Anaconda3\\\\DLLs',\n",
       " 'C:\\\\Program Files\\\\Anaconda3\\\\lib',\n",
       " 'C:\\\\Program Files\\\\Anaconda3',\n",
       " 'C:\\\\Program Files\\\\Anaconda3\\\\lib\\\\site-packages',\n",
       " 'C:\\\\Program Files\\\\Anaconda3\\\\lib\\\\site-packages\\\\Sphinx-1.4.6-py3.5.egg',\n",
       " 'C:\\\\Program Files\\\\Anaconda3\\\\lib\\\\site-packages\\\\win32',\n",
       " 'C:\\\\Program Files\\\\Anaconda3\\\\lib\\\\site-packages\\\\win32\\\\lib',\n",
       " 'C:\\\\Program Files\\\\Anaconda3\\\\lib\\\\site-packages\\\\Pythonwin',\n",
       " 'C:\\\\Program Files\\\\Anaconda3\\\\lib\\\\site-packages\\\\setuptools-27.2.0-py3.5.egg',\n",
       " 'C:\\\\Program Files\\\\Anaconda3\\\\lib\\\\site-packages\\\\IPython\\\\extensions',\n",
       " 'C:\\\\Users\\\\Kevin Lin\\\\.ipython']"
      ]
     },
     "execution_count": 18,
     "metadata": {},
     "output_type": "execute_result"
    }
   ],
   "source": [
    "import sys\n",
    "sys.path"
   ]
  },
  {
   "cell_type": "code",
   "execution_count": 19,
   "metadata": {
    "collapsed": true
   },
   "outputs": [],
   "source": [
    "# Additional directory can be added at runtime using\n",
    "# sys.path.insert(...)"
   ]
  },
  {
   "cell_type": "code",
   "execution_count": 20,
   "metadata": {
    "collapsed": true
   },
   "outputs": [],
   "source": [
    "# Directories can also be added permanently by modifying in System environment variable section. \n"
   ]
  },
  {
   "cell_type": "code",
   "execution_count": null,
   "metadata": {
    "collapsed": true
   },
   "outputs": [],
   "source": []
  }
 ],
 "metadata": {
  "anaconda-cloud": {},
  "kernelspec": {
   "display_name": "Python [default]",
   "language": "python",
   "name": "python3"
  },
  "language_info": {
   "codemirror_mode": {
    "name": "ipython",
    "version": 3
   },
   "file_extension": ".py",
   "mimetype": "text/x-python",
   "name": "python",
   "nbconvert_exporter": "python",
   "pygments_lexer": "ipython3",
   "version": "3.5.2"
  }
 },
 "nbformat": 4,
 "nbformat_minor": 1
}
