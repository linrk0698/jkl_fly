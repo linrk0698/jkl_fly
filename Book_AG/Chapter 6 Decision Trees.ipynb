{
 "cells": [
  {
   "cell_type": "markdown",
   "metadata": {},
   "source": [
    "# Chapter 6 Decision Trees \n",
    "## Training and Visualizing a Decision Tree "
   ]
  },
  {
   "cell_type": "code",
   "execution_count": 1,
   "metadata": {},
   "outputs": [
    {
     "data": {
      "text/plain": [
       "DecisionTreeClassifier(class_weight=None, criterion='gini', max_depth=2,\n",
       "            max_features=None, max_leaf_nodes=None,\n",
       "            min_impurity_decrease=0.0, min_impurity_split=None,\n",
       "            min_samples_leaf=1, min_samples_split=2,\n",
       "            min_weight_fraction_leaf=0.0, presort=False, random_state=None,\n",
       "            splitter='best')"
      ]
     },
     "execution_count": 1,
     "metadata": {},
     "output_type": "execute_result"
    }
   ],
   "source": [
    "from sklearn.datasets import load_iris\n",
    "from sklearn.tree import DecisionTreeClassifier\n",
    "\n",
    "iris = load_iris()\n",
    "x = iris.data[:,2:]\n",
    "y = iris.target \n",
    "tree_clf = DecisionTreeClassifier(max_depth=2)\n",
    "tree_clf.fit(x,y)"
   ]
  },
  {
   "cell_type": "code",
   "execution_count": 2,
   "metadata": {},
   "outputs": [],
   "source": [
    "from sklearn.tree import export_graphviz\n",
    "export_graphviz(\n",
    "    tree_clf,\n",
    "    out_file=\"iris_tree.dot\",\n",
    "    feature_names = iris.feature_names[2:],\n",
    "    class_names=iris.target_names,\n",
    "    rounded=True,\n",
    "    filled=True\n",
    ")"
   ]
  },
  {
   "cell_type": "markdown",
   "metadata": {},
   "source": [
    "One of many qualities of Decision Trees is that they require very little data preparation. In particular, they don't require feature scaling or centering at all. "
   ]
  },
  {
   "cell_type": "code",
   "execution_count": 3,
   "metadata": {},
   "outputs": [
    {
     "data": {
      "text/plain": [
       "array([[0.        , 0.90740741, 0.09259259]])"
      ]
     },
     "execution_count": 3,
     "metadata": {},
     "output_type": "execute_result"
    }
   ],
   "source": [
    "tree_clf.predict_proba([[5,1.5]])"
   ]
  },
  {
   "cell_type": "code",
   "execution_count": 4,
   "metadata": {},
   "outputs": [
    {
     "data": {
      "text/plain": [
       "array([1])"
      ]
     },
     "execution_count": 4,
     "metadata": {},
     "output_type": "execute_result"
    }
   ],
   "source": [
    "tree_clf.predict([[5,1.5]])"
   ]
  },
  {
   "cell_type": "markdown",
   "metadata": {},
   "source": [
    "## The CART Training Algorithm\n",
    "\n",
    "Scikit-Learn uses the Classification And Regression Tree (CART) algorithm to train Decision Trees. The cost function that the algorithm tries to minimize is given below: \n",
    "$$J(k,t_{k})=\\frac{m_{left}}{m}G_{left}+\\frac{m_{right}}{m}G_{right}$$\n"
   ]
  },
  {
   "cell_type": "markdown",
   "metadata": {},
   "source": [
    "### How to plot decision boundary for decision trees"
   ]
  },
  {
   "cell_type": "code",
   "execution_count": 15,
   "metadata": {},
   "outputs": [],
   "source": [
    "from matplotlib.colors import ListedColormap\n",
    "\n",
    "def plot_decision_boundary(clf,X,y,axes=[0,7.5,0,3],iris=True,legend=False,plot_training=True):\n",
    "    x1s = np.linspace(axes[0],axes[1],100)\n",
    "    x2s = np.linspace(axes[2],axes[3],100)\n",
    "    x1,x2 = np.meshgrid(x1s,x2s)\n",
    "    X_new = np.c_[x1.ravel(),x2.ravel()]\n",
    "    y_pred = clf.predict(X_new).reshape(x1.shape) \n",
    "    custom_cmap = ListedColormap(['#fafab0','#9898ff','#a0faa0'])\n",
    "    plt.contourf(x1,x2,y_pred,alpha=0.3,cmap=custom_cmap)\n",
    "    if not iris: \n",
    "        custom_cmap2 = ListedColormap(['#7d7d58','#4c4c7f','#507d50'])\n",
    "        plt.contour(x1,x2,y_pred,cmap=custom_cmap2,alpha=0.8)\n",
    "    if plot_training: \n",
    "        plt.plot(X[:,0][y==0],X[:,1][y==0],'yo',label=\"Iris-Setosa\")\n",
    "        plt.plot(X[:,0][y==1],X[:,1][y==1],'bs',label=\"Iris-Versicolor\")\n",
    "        plt.plot(X[:,0][y==2],X[:,1][y==2],'g^',label=\"Iris-Virginica\")\n",
    "        plt.axis(axes) \n",
    "    if iris: \n",
    "        plt.xlabel(\"Petal length\", fontsize=14) \n",
    "        plt.ylable(\"Petal width\", fontsize=14) \n",
    "    else: \n",
    "        plt.xlabel(r\"$x_1$\",fontsize=18) \n",
    "        plt.ylabel(r\"$x_2$\",fontsize=18,rotation=0) \n",
    "    if legend: \n",
    "        plt.legend(loc=\"lower right\",fontsize=14) \n",
    "        "
   ]
  },
  {
   "cell_type": "code",
   "execution_count": 16,
   "metadata": {},
   "outputs": [
    {
     "data": {
      "image/png": "[encoded data removed]",
      "text/plain": [
       "<Figure size 792x288 with 2 Axes>"
      ]
     },
     "metadata": {
      "needs_background": "light"
     },
     "output_type": "display_data"
    }
   ],
   "source": [
    "import numpy as np\n",
    "import matplotlib.pyplot as plt\n",
    "np.random.seed(6) \n",
    "Xs = np.random.rand(100,2) -0.5\n",
    "ys = (Xs[:,0]>0).astype(np.float32) * 2\n",
    "\n",
    "angle = np.pi/4 \n",
    "rotation_matrix = np.array([[np.cos(angle),-np.sin(angle)],[np.sin(angle),np.cos(angle)]])\n",
    "Xsr = Xs.dot(rotation_matrix) \n",
    "\n",
    "tree_clf_s = DecisionTreeClassifier(random_state = 42) \n",
    "tree_clf_s.fit(Xs,ys) \n",
    "tree_clf_sr = DecisionTreeClassifier(random_state=42) \n",
    "tree_clf_sr.fit(Xsr,ys) \n",
    "\n",
    "plt.figure(figsize=(11,4)) \n",
    "plt.subplot(121) \n",
    "plot_decision_boundary(tree_clf_s,Xs,ys,axes=[-0.7,0.7,-0.7,0.7],iris=False)\n",
    "plt.subplot(122) \n",
    "plot_decision_boundary(tree_clf_sr,Xsr,ys,axes=[-0.7,0.7,-0.7,0.7],iris=False)\n"
   ]
  },
  {
   "cell_type": "code",
   "execution_count": null,
   "metadata": {},
   "outputs": [],
   "source": []
  }
 ],
 "metadata": {
  "kernelspec": {
   "display_name": "Python 3",
   "language": "python",
   "name": "python3"
  },
  "language_info": {
   "codemirror_mode": {
    "name": "ipython",
    "version": 3
   },
   "file_extension": ".py",
   "mimetype": "text/x-python",
   "name": "python",
   "nbconvert_exporter": "python",
   "pygments_lexer": "ipython3",
   "version": "3.7.3"
  }
 },
 "nbformat": 4,
 "nbformat_minor": 2
}
