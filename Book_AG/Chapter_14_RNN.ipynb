{
 "cells": [
  {
   "cell_type": "markdown",
   "metadata": {},
   "source": [
    "# Chapter 14 RNN"
   ]
  },
  {
   "cell_type": "code",
   "execution_count": 1,
   "metadata": {},
   "outputs": [],
   "source": [
    "\n",
    "# To support both python 2 and python 3\n",
    "from __future__ import division, print_function, unicode_literals\n",
    "\n",
    "# Common imports\n",
    "import numpy as np\n",
    "import os\n",
    "\n",
    "# to make this notebook's output stable across runs\n",
    "def reset_graph(seed=42):\n",
    "    tf.reset_default_graph()\n",
    "    tf.set_random_seed(seed)\n",
    "    np.random.seed(seed)\n",
    "\n",
    "# To plot pretty figures\n",
    "%matplotlib inline\n",
    "import matplotlib\n",
    "import matplotlib.pyplot as plt\n",
    "plt.rcParams['axes.labelsize'] = 14\n",
    "plt.rcParams['xtick.labelsize'] = 12\n",
    "plt.rcParams['ytick.labelsize'] = 12\n",
    "\n",
    "# Where to save the figures\n",
    "PROJECT_ROOT_DIR = \".\"\n",
    "CHAPTER_ID = \"rnn\"\n",
    "\n",
    "def save_fig(fig_id, tight_layout=True):\n",
    "    path = os.path.join(PROJECT_ROOT_DIR, \"images\", CHAPTER_ID, fig_id + \".png\")\n",
    "    print(\"Saving figure\", fig_id)\n",
    "    if tight_layout:\n",
    "        plt.tight_layout()\n",
    "    plt.savefig(path, format='png', dpi=300)"
   ]
  },
  {
   "cell_type": "code",
   "execution_count": 2,
   "metadata": {},
   "outputs": [],
   "source": [
    "import tensorflow as tf"
   ]
  },
  {
   "cell_type": "markdown",
   "metadata": {},
   "source": [
    "# Basic RNN \n",
    "## Manual RNN"
   ]
  },
  {
   "cell_type": "code",
   "execution_count": 3,
   "metadata": {},
   "outputs": [
    {
     "name": "stdout",
     "output_type": "stream",
     "text": [
      "WARNING:tensorflow:From /Users/rongkelin/anaconda3/lib/python3.7/site-packages/tensorflow/python/framework/op_def_library.py:263: colocate_with (from tensorflow.python.framework.ops) is deprecated and will be removed in a future version.\n",
      "Instructions for updating:\n",
      "Colocations handled automatically by placer.\n"
     ]
    }
   ],
   "source": [
    "reset_graph() \n",
    "\n",
    "n_inputs = 3 \n",
    "n_neurons = 5\n",
    "\n",
    "X0 = tf.placeholder(tf.float32,[None,n_inputs]) \n",
    "X1 = tf.placeholder(tf.float32,[None,n_inputs]) \n",
    "\n",
    "Wx = tf.Variable(tf.random_normal(shape=[n_inputs,n_neurons],dtype=tf.float32))\n",
    "Wy = tf.Variable(tf.random_normal(shape=[n_neurons,n_neurons],dtype=tf.float32))\n",
    "b = tf.Variable(tf.zeros([1,n_neurons],dtype=tf.float32)) \n",
    "\n",
    "Y0 = tf.tanh(tf.matmul(X0,Wx)+b) \n",
    "Y1 = tf.tanh(tf.matmul(Y0,Wy) + tf.matmul(X1,Wx) + b) \n",
    "\n",
    "init = tf.global_variables_initializer() "
   ]
  },
  {
   "cell_type": "code",
   "execution_count": 4,
   "metadata": {},
   "outputs": [],
   "source": [
    "import numpy as np \n",
    "X0_batch = np.array([[0,1,2],[3,4,5],[6,7,8],[9,0,1]]) \n",
    "X1_batch = np.array([[9,8,7],[0,0,0],[6,5,4],[3,2,1]]) \n",
    "\n",
    "with tf.Session() as sess: \n",
    "    init.run() \n",
    "    Y0_val,Y1_val = sess.run([Y0,Y1],feed_dict={X0:X0_batch,X1:X1_batch})"
   ]
  },
  {
   "cell_type": "code",
   "execution_count": 5,
   "metadata": {},
   "outputs": [
    {
     "name": "stdout",
     "output_type": "stream",
     "text": [
      "[[-0.0664006   0.9625767   0.68105793  0.7091854  -0.898216  ]\n",
      " [ 0.9977755  -0.71978897 -0.9965761   0.9673924  -0.9998972 ]\n",
      " [ 0.99999774 -0.99898803 -0.9999989   0.9967762  -0.9999999 ]\n",
      " [ 1.         -1.         -1.         -0.99818915  0.9995087 ]]\n"
     ]
    }
   ],
   "source": [
    "print(Y0_val)"
   ]
  },
  {
   "cell_type": "markdown",
   "metadata": {},
   "source": [
    "# Using `static_rnn()`"
   ]
  },
  {
   "cell_type": "markdown",
   "metadata": {},
   "source": [
    "The following code produce the same result as the previous one. "
   ]
  },
  {
   "cell_type": "code",
   "execution_count": 6,
   "metadata": {},
   "outputs": [],
   "source": [
    "n_inputs = 3\n",
    "n_neurons = 5 "
   ]
  },
  {
   "cell_type": "code",
   "execution_count": 7,
   "metadata": {},
   "outputs": [
    {
     "name": "stdout",
     "output_type": "stream",
     "text": [
      "WARNING:tensorflow:From <ipython-input-7-7b8708cb7bca>:5: BasicRNNCell.__init__ (from tensorflow.python.ops.rnn_cell_impl) is deprecated and will be removed in a future version.\n",
      "Instructions for updating:\n",
      "This class is equivalent as tf.keras.layers.SimpleRNNCell, and will be replaced by that in Tensorflow 2.0.\n",
      "WARNING:tensorflow:From <ipython-input-7-7b8708cb7bca>:6: static_rnn (from tensorflow.python.ops.rnn) is deprecated and will be removed in a future version.\n",
      "Instructions for updating:\n",
      "Please use `keras.layers.RNN(cell, unroll=True)`, which is equivalent to this API\n"
     ]
    }
   ],
   "source": [
    "reset_graph() \n",
    "# Create input placeholders. \n",
    "X0 = tf.placeholder(tf.float32,[None,n_inputs])\n",
    "X1 = tf.placeholder(tf.float32,[None,n_inputs]) \n",
    "\n",
    "# Creat BasicRNNCell which is like a factory that creates copies of the cell to build the unrolled RNN. \n",
    "# One for each time step. \n",
    "basic_cell = tf.nn.rnn_cell.BasicRNNCell(num_units=n_neurons) \n",
    "# Call static_rnn() \n",
    "# givee it the cell factory, input tensors, tell it the data type of the inputs. \n",
    "output_seqs,states = tf.nn.static_rnn(basic_cell,[X0,X1],dtype=tf.float32) \n",
    "# static_rnn() returns two objects. First is a Python list containing the output tensors for each time step. \n",
    "# Second is a tensor containing final states of \n",
    "Y0,Y1 = output_seqs "
   ]
  },
  {
   "cell_type": "code",
   "execution_count": 8,
   "metadata": {},
   "outputs": [],
   "source": [
    "init = tf.global_variables_initializer() "
   ]
  },
  {
   "cell_type": "code",
   "execution_count": 9,
   "metadata": {},
   "outputs": [],
   "source": [
    "X0_batch = np.array([[0,1,2],[3,4,5],[6,7,8],[9,0,1]])\n",
    "X1_batch = np.array([[9,8,7],[0,0,0],[6,5,4],[3,2,1]]) \n",
    "\n",
    "with tf.Session() as sess: \n",
    "    init.run() \n",
    "    Y0_val,Y1_val = sess.run([Y0,Y1],feed_dict={X0:X0_batch,X1:X1_batch})"
   ]
  },
  {
   "cell_type": "code",
   "execution_count": 10,
   "metadata": {},
   "outputs": [
    {
     "data": {
      "text/plain": [
       "array([[ 0.30741334, -0.32884315, -0.6542847 , -0.9385059 ,  0.52089024],\n",
       "       [ 0.99122757, -0.9542541 , -0.7518079 , -0.9995208 ,  0.9820235 ],\n",
       "       [ 0.9999268 , -0.99783254, -0.8247353 , -0.9999963 ,  0.99947774],\n",
       "       [ 0.996771  , -0.68750614,  0.8419969 ,  0.9303911 ,  0.8120684 ]],\n",
       "      dtype=float32)"
      ]
     },
     "execution_count": 10,
     "metadata": {},
     "output_type": "execute_result"
    }
   ],
   "source": [
    "Y0_val"
   ]
  },
  {
   "cell_type": "markdown",
   "metadata": {},
   "source": [
    "## Packing Sequences "
   ]
  },
  {
   "cell_type": "code",
   "execution_count": 11,
   "metadata": {},
   "outputs": [],
   "source": [
    "n_steps = 2 \n",
    "n_inputs = 3 \n",
    "n_neurons = 5 "
   ]
  },
  {
   "cell_type": "code",
   "execution_count": 15,
   "metadata": {},
   "outputs": [],
   "source": [
    "\n",
    "reset_graph() \n",
    "\n",
    "X = tf.placeholder(tf.float32,[None,n_steps,n_inputs]) \n",
    "# X_seqs is a Python list of n_steps tensors of shap [None,n_inputs]. \n",
    "X_seqs = tf.unstack(tf.transpose(X,perm=[1,0,2]))\n",
    "\n",
    "basic_cell = tf.nn.rnn_cell.BasicRNNCell(num_units = n_neurons) \n",
    "output_seqs,states = tf.nn.static_rnn(basic_cell,X_seqs,dtype=tf.float32) \n",
    "outputs = tf.transpose(tf.stack(output_seqs),perm=[1,0,2]) \n"
   ]
  },
  {
   "cell_type": "code",
   "execution_count": 16,
   "metadata": {},
   "outputs": [],
   "source": [
    "init = tf.global_variables_initializer() "
   ]
  },
  {
   "cell_type": "code",
   "execution_count": 18,
   "metadata": {},
   "outputs": [],
   "source": [
    "X_batch = np.array([\n",
    "    [[0,1,2],[9,8,7]],\n",
    "    [[3,4,5],[0,0,0]],\n",
    "    [[6,7,8],[6,5,4]],\n",
    "    [[9,0,1],[3,2,1]]\n",
    "])\n",
    "\n",
    "with tf.Session() as sess: \n",
    "    init.run() \n",
    "    outputs_val = outputs.eval(feed_dict={X:X_batch})"
   ]
  },
  {
   "cell_type": "code",
   "execution_count": 19,
   "metadata": {},
   "outputs": [
    {
     "name": "stdout",
     "output_type": "stream",
     "text": [
      "[[[-0.45652324 -0.68064123  0.40938237  0.63104504 -0.45732826]\n",
      "  [-0.9428799  -0.9998869   0.94055814  0.9999985  -0.9999999 ]]\n",
      "\n",
      " [[-0.8001535  -0.9921827   0.7817797   0.9971031  -0.9964609 ]\n",
      "  [-0.637116    0.11300932  0.5798437   0.43105596 -0.63716984]]\n",
      "\n",
      " [[-0.93605185 -0.9998379   0.9308867   0.9999815  -0.99998295]\n",
      "  [-0.9165386  -0.9945604   0.896054    0.99987185 -0.9999751 ]]\n",
      "\n",
      " [[ 0.9927369  -0.9981933  -0.55543643  0.9989031  -0.9953323 ]\n",
      "  [-0.02746338 -0.73191977  0.7827872   0.9525682  -0.9781773 ]]]\n"
     ]
    }
   ],
   "source": [
    "print(outputs_val)"
   ]
  },
  {
   "cell_type": "markdown",
   "metadata": {},
   "source": [
    "## Setting the sequence lengths"
   ]
  },
  {
   "cell_type": "code",
   "execution_count": 20,
   "metadata": {},
   "outputs": [],
   "source": [
    "n_steps = 2\n",
    "n_inputs = 3 \n",
    "n_neurons = 5 \n",
    "\n",
    "reset_graph() \n",
    "\n",
    "X = tf.placeholder(tf.float32,[None,n_steps,n_inputs]) \n",
    "basic_cell = tf.nn.rnn_cell.BasicRNNCell(num_units = n_neurons) \n"
   ]
  },
  {
   "cell_type": "code",
   "execution_count": 21,
   "metadata": {},
   "outputs": [
    {
     "name": "stdout",
     "output_type": "stream",
     "text": [
      "WARNING:tensorflow:From <ipython-input-21-9b5156c83f90>:3: dynamic_rnn (from tensorflow.python.ops.rnn) is deprecated and will be removed in a future version.\n",
      "Instructions for updating:\n",
      "Please use `keras.layers.RNN(cell)`, which is equivalent to this API\n",
      "WARNING:tensorflow:From /Users/rongkelin/anaconda3/lib/python3.7/site-packages/tensorflow/python/ops/rnn.py:626: to_int32 (from tensorflow.python.ops.math_ops) is deprecated and will be removed in a future version.\n",
      "Instructions for updating:\n",
      "Use tf.cast instead.\n"
     ]
    }
   ],
   "source": [
    "# this is new\n",
    "seq_length = tf.placeholder(tf.int32,[None])\n",
    "outputs,states = tf.nn.dynamic_rnn(basic_cell,X,dtype=tf.float32,sequence_length=seq_length)"
   ]
  },
  {
   "cell_type": "code",
   "execution_count": 22,
   "metadata": {},
   "outputs": [],
   "source": [
    "init = tf.global_variables_initializer() "
   ]
  },
  {
   "cell_type": "code",
   "execution_count": 23,
   "metadata": {},
   "outputs": [],
   "source": [
    "X_batch = np.array([\n",
    "        # step 0     step 1\n",
    "        [[0, 1, 2], [9, 8, 7]], # instance 1\n",
    "        [[3, 4, 5], [0, 0, 0]], # instance 2 (padded with zero vectors)\n",
    "        [[6, 7, 8], [6, 5, 4]], # instance 3\n",
    "        [[9, 0, 1], [3, 2, 1]], # instance 4\n",
    "    ])\n",
    "seq_length_batch = np.array([2, 1, 2, 2])"
   ]
  },
  {
   "cell_type": "code",
   "execution_count": 24,
   "metadata": {},
   "outputs": [],
   "source": [
    "with tf.Session() as sess:\n",
    "    init.run()\n",
    "    outputs_val, states_val = sess.run(\n",
    "        [outputs, states], feed_dict={X: X_batch, seq_length: seq_length_batch})"
   ]
  },
  {
   "cell_type": "code",
   "execution_count": 25,
   "metadata": {},
   "outputs": [
    {
     "name": "stdout",
     "output_type": "stream",
     "text": [
      "[[[-0.9123188   0.16516446  0.5548655  -0.39159346  0.20846416]\n",
      "  [-1.          0.9567258   0.9983168   0.99970174  0.9651857 ]]\n",
      "\n",
      " [[-0.9998612   0.6702291   0.9723653   0.6631046   0.74457586]\n",
      "  [ 0.          0.          0.          0.          0.        ]]\n",
      "\n",
      " [[-0.99999976  0.8967997   0.9986295   0.9647514   0.93662   ]\n",
      "  [-0.9999526   0.9681953   0.96002865  0.98706263  0.85459226]]\n",
      "\n",
      " [[-0.96435434  0.99501586 -0.36150697  0.9983378   0.999497  ]\n",
      "  [-0.96135855  0.9568762   0.7132288   0.97729224 -0.0958299 ]]]\n"
     ]
    }
   ],
   "source": [
    "print(outputs_val)"
   ]
  },
  {
   "cell_type": "markdown",
   "metadata": {},
   "source": [
    "## Training a sequence classifier\n"
   ]
  },
  {
   "cell_type": "code",
   "execution_count": 26,
   "metadata": {},
   "outputs": [
    {
     "name": "stdout",
     "output_type": "stream",
     "text": [
      "WARNING:tensorflow:From <ipython-input-26-c9d60a6aac1f>:17: dense (from tensorflow.python.layers.core) is deprecated and will be removed in a future version.\n",
      "Instructions for updating:\n",
      "Use keras.layers.dense instead.\n"
     ]
    }
   ],
   "source": [
    "reset_graph() \n",
    "\n",
    "n_steps = 28\n",
    "n_inputs = 28\n",
    "n_neurons = 150\n",
    "n_outputs = 10 \n",
    "\n",
    "learning_rate = 0.001\n",
    "\n",
    "X = tf.placeholder(tf.float32,[None,n_steps,n_inputs])\n",
    "y = tf.placeholder(tf.int32,[None]) \n",
    "\n",
    "# Here we didn't define name scope. \n",
    "basic_cell = tf.nn.rnn_cell.BasicRNNCell(num_units = n_neurons) \n",
    "# we didn't specifiy sequence length. \n",
    "# X: RNN inputs. Tensor of shape [Batch_size, max_time ...] \n",
    "# seq_length(optional): vector sized [batch_size]. \n",
    "outputs,states = tf.nn.dynamic_rnn(basic_cell,X,dtype=tf.float32) \n",
    "\n",
    "logits = tf.layers.dense(states,n_outputs) \n",
    "xentropy = tf.nn.sparse_softmax_cross_entropy_with_logits(labels = y,logits=logits) \n",
    "\n",
    "loss = tf.reduce_mean(xentropy) \n",
    "optimizer = tf.train.AdamOptimizer(learning_rate=learning_rate) \n",
    "training_op = optimizer.minimize(loss) \n",
    "correct = tf.nn.in_top_k(logits,y,1) \n",
    "accuracy = tf.reduce_mean(tf.cast(correct,tf.float32)) \n",
    "\n",
    "init = tf.global_variables_initializer() \n",
    "\n"
   ]
  },
  {
   "cell_type": "code",
   "execution_count": 27,
   "metadata": {},
   "outputs": [],
   "source": [
    "\n",
    "(X_train, y_train), (X_test, y_test) = tf.keras.datasets.mnist.load_data()\n",
    "X_train = X_train.astype(np.float32).reshape(-1, 28*28) / 255.0\n",
    "X_test = X_test.astype(np.float32).reshape(-1, 28*28) / 255.0\n",
    "y_train = y_train.astype(np.int32)\n",
    "y_test = y_test.astype(np.int32)\n",
    "X_valid, X_train = X_train[:5000], X_train[5000:]\n",
    "y_valid, y_train = y_train[:5000], y_train[5000:]"
   ]
  },
  {
   "cell_type": "code",
   "execution_count": 28,
   "metadata": {},
   "outputs": [],
   "source": [
    "\n",
    "def shuffle_batch(X, y, batch_size):\n",
    "    rnd_idx = np.random.permutation(len(X))\n",
    "    n_batches = len(X) // batch_size\n",
    "    for batch_idx in np.array_split(rnd_idx, n_batches):\n",
    "        X_batch, y_batch = X[batch_idx], y[batch_idx]\n",
    "        yield X_batch, y_batch"
   ]
  },
  {
   "cell_type": "code",
   "execution_count": 30,
   "metadata": {},
   "outputs": [],
   "source": [
    "X_test = X_test.reshape((-1, n_steps, n_inputs))"
   ]
  },
  {
   "cell_type": "code",
   "execution_count": null,
   "metadata": {},
   "outputs": [
    {
     "name": "stdout",
     "output_type": "stream",
     "text": [
      "0 Last batch accuracy: 0.9533333 Test accuracy: 0.9288\n",
      "1 Last batch accuracy: 0.96 Test accuracy: 0.9471\n",
      "2 Last batch accuracy: 0.96 Test accuracy: 0.9499\n",
      "3 Last batch accuracy: 0.96 Test accuracy: 0.9566\n",
      "4 Last batch accuracy: 0.96666664 Test accuracy: 0.9644\n",
      "5 Last batch accuracy: 0.94 Test accuracy: 0.965\n",
      "6 Last batch accuracy: 0.98 Test accuracy: 0.9674\n",
      "7 Last batch accuracy: 0.96 Test accuracy: 0.9691\n",
      "8 Last batch accuracy: 0.9866667 Test accuracy: 0.974\n",
      "9 Last batch accuracy: 0.99333334 Test accuracy: 0.9746\n",
      "10 Last batch accuracy: 0.97333336 Test accuracy: 0.9752\n",
      "11 Last batch accuracy: 0.9866667 Test accuracy: 0.9766\n",
      "12 Last batch accuracy: 0.9533333 Test accuracy: 0.965\n",
      "13 Last batch accuracy: 0.9866667 Test accuracy: 0.9767\n",
      "14 Last batch accuracy: 0.99333334 Test accuracy: 0.9726\n",
      "15 Last batch accuracy: 0.9866667 Test accuracy: 0.975\n",
      "16 Last batch accuracy: 0.9866667 Test accuracy: 0.9657\n",
      "17 Last batch accuracy: 0.9866667 Test accuracy: 0.9766\n",
      "18 Last batch accuracy: 0.9866667 Test accuracy: 0.9776\n",
      "19 Last batch accuracy: 0.9866667 Test accuracy: 0.976\n",
      "20 Last batch accuracy: 1.0 Test accuracy: 0.9762\n",
      "21 Last batch accuracy: 0.9866667 Test accuracy: 0.9746\n",
      "22 Last batch accuracy: 0.99333334 Test accuracy: 0.9767\n",
      "23 Last batch accuracy: 1.0 Test accuracy: 0.9766\n",
      "24 Last batch accuracy: 0.97333336 Test accuracy: 0.9769\n",
      "25 Last batch accuracy: 0.9866667 Test accuracy: 0.978\n",
      "26 Last batch accuracy: 0.9866667 Test accuracy: 0.9767\n",
      "27 Last batch accuracy: 1.0 Test accuracy: 0.9791\n",
      "28 Last batch accuracy: 0.9866667 Test accuracy: 0.977\n",
      "29 Last batch accuracy: 0.98 Test accuracy: 0.9789\n",
      "30 Last batch accuracy: 0.9866667 Test accuracy: 0.979\n",
      "31 Last batch accuracy: 0.98 Test accuracy: 0.9789\n",
      "32 Last batch accuracy: 0.98 Test accuracy: 0.9752\n",
      "33 Last batch accuracy: 0.9866667 Test accuracy: 0.9767\n",
      "34 Last batch accuracy: 1.0 Test accuracy: 0.9808\n",
      "35 Last batch accuracy: 1.0 Test accuracy: 0.9799\n",
      "36 Last batch accuracy: 0.9866667 Test accuracy: 0.9809\n",
      "37 Last batch accuracy: 1.0 Test accuracy: 0.9777\n",
      "38 Last batch accuracy: 0.99333334 Test accuracy: 0.9774\n",
      "39 Last batch accuracy: 0.98 Test accuracy: 0.978\n",
      "40 Last batch accuracy: 0.9866667 Test accuracy: 0.9756\n",
      "41 Last batch accuracy: 1.0 Test accuracy: 0.9782\n",
      "42 Last batch accuracy: 1.0 Test accuracy: 0.9791\n",
      "43 Last batch accuracy: 0.99333334 Test accuracy: 0.978\n",
      "44 Last batch accuracy: 1.0 Test accuracy: 0.9782\n",
      "45 Last batch accuracy: 0.99333334 Test accuracy: 0.9797\n",
      "46 Last batch accuracy: 1.0 Test accuracy: 0.9724\n",
      "47 Last batch accuracy: 0.99333334 Test accuracy: 0.9782\n",
      "48 Last batch accuracy: 0.9866667 Test accuracy: 0.9777\n",
      "49 Last batch accuracy: 1.0 Test accuracy: 0.9788\n",
      "50 Last batch accuracy: 0.99333334 Test accuracy: 0.9782\n",
      "51 Last batch accuracy: 1.0 Test accuracy: 0.9706\n",
      "52 Last batch accuracy: 0.99333334 Test accuracy: 0.9773\n",
      "53 Last batch accuracy: 0.9866667 Test accuracy: 0.9756\n",
      "54 Last batch accuracy: 0.99333334 Test accuracy: 0.9768\n",
      "55 Last batch accuracy: 1.0 Test accuracy: 0.9792\n",
      "56 Last batch accuracy: 0.9866667 Test accuracy: 0.979\n",
      "57 Last batch accuracy: 0.99333334 Test accuracy: 0.9797\n",
      "58 Last batch accuracy: 0.9866667 Test accuracy: 0.9769\n",
      "59 Last batch accuracy: 1.0 Test accuracy: 0.9802\n",
      "60 Last batch accuracy: 0.9866667 Test accuracy: 0.9815\n",
      "61 Last batch accuracy: 1.0 Test accuracy: 0.9813\n",
      "62 Last batch accuracy: 0.99333334 Test accuracy: 0.9775\n",
      "63 Last batch accuracy: 0.9866667 Test accuracy: 0.9769\n",
      "64 Last batch accuracy: 0.99333334 Test accuracy: 0.9786\n",
      "65 Last batch accuracy: 0.9866667 Test accuracy: 0.9784\n",
      "66 Last batch accuracy: 0.9866667 Test accuracy: 0.9775\n",
      "67 Last batch accuracy: 1.0 Test accuracy: 0.9781\n",
      "68 Last batch accuracy: 0.9866667 Test accuracy: 0.9806\n",
      "69 Last batch accuracy: 0.9866667 Test accuracy: 0.9772\n",
      "70 Last batch accuracy: 1.0 Test accuracy: 0.9776\n",
      "71 Last batch accuracy: 1.0 Test accuracy: 0.9803\n",
      "72 Last batch accuracy: 0.98 Test accuracy: 0.9769\n",
      "73 Last batch accuracy: 0.9866667 Test accuracy: 0.9796\n",
      "74 Last batch accuracy: 0.99333334 Test accuracy: 0.9758\n",
      "75 Last batch accuracy: 0.9866667 Test accuracy: 0.981\n",
      "76 Last batch accuracy: 0.97333336 Test accuracy: 0.9751\n",
      "77 Last batch accuracy: 1.0 Test accuracy: 0.9791\n",
      "78 Last batch accuracy: 1.0 Test accuracy: 0.979\n",
      "79 Last batch accuracy: 0.99333334 Test accuracy: 0.9804\n",
      "80 Last batch accuracy: 1.0 Test accuracy: 0.9762\n",
      "81 Last batch accuracy: 0.98 Test accuracy: 0.9776\n",
      "82 Last batch accuracy: 0.99333334 Test accuracy: 0.9761\n",
      "83 Last batch accuracy: 0.99333334 Test accuracy: 0.9777\n",
      "84 Last batch accuracy: 0.99333334 Test accuracy: 0.9792\n",
      "85 Last batch accuracy: 0.99333334 Test accuracy: 0.9795\n",
      "86 Last batch accuracy: 0.9866667 Test accuracy: 0.9801\n",
      "87 Last batch accuracy: 1.0 Test accuracy: 0.9807\n",
      "88 Last batch accuracy: 0.99333334 Test accuracy: 0.9772\n",
      "89 Last batch accuracy: 1.0 Test accuracy: 0.9803\n",
      "90 Last batch accuracy: 1.0 Test accuracy: 0.9762\n",
      "91 Last batch accuracy: 0.99333334 Test accuracy: 0.9767\n",
      "92 Last batch accuracy: 1.0 Test accuracy: 0.9772\n",
      "93 Last batch accuracy: 0.9866667 Test accuracy: 0.9758\n"
     ]
    }
   ],
   "source": [
    "n_epochs = 100 \n",
    "batch_size = 150 \n",
    "\n",
    "with tf.Session() as sess: \n",
    "    init.run() \n",
    "    for epoch in range(n_epochs): \n",
    "        for X_batch,y_batch in shuffle_batch(X_train,y_train,batch_size): \n",
    "            X_batch = X_batch.reshape((-1,n_steps,n_inputs))\n",
    "            sess.run(training_op,feed_dict={X:X_batch,y:y_batch})\n",
    "        acc_batch = accuracy.eval(feed_dict={X:X_batch,y:y_batch})\n",
    "        acc_test  = accuracy.eval(feed_dict={X:X_test,y:y_test})\n",
    "        print(epoch,\"Last batch accuracy:\",acc_batch,\"Test accuracy:\",acc_test)"
   ]
  },
  {
   "cell_type": "markdown",
   "metadata": {},
   "source": [
    "## Time series\n"
   ]
  },
  {
   "cell_type": "code",
   "execution_count": null,
   "metadata": {},
   "outputs": [],
   "source": [
    "t_min,t_max = 0,30\n",
    "resolution = 0.1\n",
    "\n",
    "def time_series(t): \n",
    "    return t*np.sin(t)/3+2*np.sin(t*5)\n",
    "\n",
    "def next_batch(batch_size,n_steps): \n",
    "    t0 = np.random.rand(batch_size,1)*(t_max-t_min-n_steps*resolution) \n",
    "    Ts = t0 + np.arange(0.,n_steps+1) * resolution\n",
    "    ys = time_series(Ts)\n",
    "    return ys[:,:-1].reshape(-1,n_steps,1),ys[:,1:].reshape(-1,n_steps,1) "
   ]
  },
  {
   "cell_type": "code",
   "execution_count": null,
   "metadata": {},
   "outputs": [],
   "source": [
    "t = np.linspace(t_min,t_max,int((t_max-t_min)/resolution)) \n",
    "\n",
    "n_steps = 20\n",
    "t_instance = np.linspace(12.2,12.2+resolution * (n_steps + 1),n_steps+1) \n",
    "\n",
    "plt.figure(figsize=(11,4))\n",
    "plt.subplot(121) \n",
    "plt.title(\"A time series(generated)\",fontsize=14) \n",
    "plt.plot(t,time_series(t),label = r\"$t.\\sin(t)/3+2.\\sin(5t)$\")\n",
    "plt.plot(t_instance[:-1],time_series(t_instance[:-1]),\"b-\",linewidth=3,label=\"A training instance\") \n",
    "plt.legend(loc=\"lower left\", fontsize=14)\n",
    "plt.axis([0,30,-17,13]) \n",
    "plt.xlabel(\"Time\") \n",
    "plt.ylabel(\"Value\") \n",
    "\n",
    "plt.subplot(122)\n",
    "plt.title(\"A training instance\", fontsize=14)\n",
    "plt.plot(t_instance[:-1], time_series(t_instance[:-1]), \"bo\", markersize=10, label=\"instance\")\n",
    "plt.plot(t_instance[1:], time_series(t_instance[1:]), \"w*\", markersize=10, label=\"target\")\n",
    "plt.legend(loc=\"upper left\")\n",
    "plt.xlabel(\"Time\")\n",
    "\n",
    "\n",
    "save_fig(\"time_series_plot\")\n",
    "plt.show()"
   ]
  },
  {
   "cell_type": "code",
   "execution_count": null,
   "metadata": {},
   "outputs": [],
   "source": [
    "reset_graph()\n",
    "\n",
    "n_steps = 20\n",
    "n_inputs = 1\n",
    "n_neurons = 100\n",
    "n_outputs = 1\n",
    "\n",
    "X = tf.placeholder(tf.float32, [None, n_steps, n_inputs])\n",
    "y = tf.placeholder(tf.float32, [None, n_steps, n_outputs])"
   ]
  },
  {
   "cell_type": "code",
   "execution_count": null,
   "metadata": {},
   "outputs": [],
   "source": []
  }
 ],
 "metadata": {
  "kernelspec": {
   "display_name": "Python 3",
   "language": "python",
   "name": "python3"
  },
  "language_info": {
   "codemirror_mode": {
    "name": "ipython",
    "version": 3
   },
   "file_extension": ".py",
   "mimetype": "text/x-python",
   "name": "python",
   "nbconvert_exporter": "python",
   "pygments_lexer": "ipython3",
   "version": "3.7.3"
  }
 },
 "nbformat": 4,
 "nbformat_minor": 2
}
